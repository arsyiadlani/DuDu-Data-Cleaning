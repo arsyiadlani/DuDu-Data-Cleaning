{
 "cells": [
  {
   "cell_type": "code",
   "execution_count": 45,
   "metadata": {},
   "outputs": [],
   "source": [
    "import pandas as pd\n",
    "import numpy as np\n",
    "from pandas import ExcelWriter\n",
    "from pandas import ExcelFile"
   ]
  },
  {
   "cell_type": "code",
   "execution_count": 46,
   "metadata": {},
   "outputs": [
    {
     "name": "stdout",
     "output_type": "stream",
     "text": [
      "Input csv data path (without .csv): C:\\Users\\dell\\Documents\\DuDu\\DuDu - Pembawa Pesan Sejuta Harapan(1-4)\n"
     ]
    }
   ],
   "source": [
    "datapath = input(\"Input csv datapath (Without .csv extension): \")"
   ]
  },
  {
   "cell_type": "code",
   "execution_count": 47,
   "metadata": {},
   "outputs": [],
   "source": [
    "# My Local Path:::: C:\\Users\\dell\\Documents\\DuDu\\DuDu - Pembawa Pesan Sejuta Harapan(1-4)\n",
    "\n",
    "df = pd.read_csv(datapath + \".csv\")"
   ]
  },
  {
   "cell_type": "code",
   "execution_count": 48,
   "metadata": {},
   "outputs": [],
   "source": [
    "df1 = df.drop([\"Email\", \"Name\", 'Mau nitip pesan buat siapa dulu nih??', 'Mau nitip pesan buat Rizky juga nggak?',\n",
    "              'Mau nitip pesan buat Moses juga nggak?', 'Mau nitip pesan buat siapa dulu nih??2',\n",
    "              'Mau nitip pesan buat Dicky juga nggak?', 'Mau nitip pesan buat Mikha juga nggak?'], axis=1)"
   ]
  },
  {
   "cell_type": "code",
   "execution_count": 49,
   "metadata": {},
   "outputs": [],
   "source": [
    "df2 = df1.copy()"
   ]
  },
  {
   "cell_type": "code",
   "execution_count": 50,
   "metadata": {},
   "outputs": [],
   "source": [
    "df2[\"Pengirim\"] = df2['Nama kamu siapa nih?? (Tulis nama sm angkatannya yak, contoh: SesMo - Pravala)'].fillna(\"Anonymous\")"
   ]
  },
  {
   "cell_type": "code",
   "execution_count": 51,
   "metadata": {},
   "outputs": [],
   "source": [
    "df2 = df2.drop(['Boleh minta nama kamu nggak nih??',\n",
    "       'Nama kamu siapa nih?? (Tulis nama sm angkatannya yak, contoh: SesMo - Pravala)'], axis=1)"
   ]
  },
  {
   "cell_type": "code",
   "execution_count": 52,
   "metadata": {},
   "outputs": [],
   "source": [
    "df2['Pesan untuk Moses'] = df2['Mau ngasih sepatah kata apa nih buat Moses?'].combine_first(df2['Mau ngasih sepatah kata apa nih buat Moses?2'])\n",
    "df2['Pesan untuk Rizky'] = df2['Mau ngasih sepatah kata apa nih buat Rizky?'].combine_first(df2['Mau ngasih sepatah kata apa nih buat Rizky?2'])\n",
    "df2['Pesan untuk Mikha'] = df2['Mau ngasih sepatah kata apa nih buat Mikha?'].combine_first(df2['Mau ngasih sepatah kata apa nih buat Mikha?2'])\n",
    "df2['Pesan untuk Dicky'] = df2['Mau ngasih sepatah kata apa nih buat Dicky?'].combine_first(df2['Mau ngasih sepatah kata apa nih buat Dicky?2'])\n",
    "df2['Pesan untuk Eron'] = df2['Mau ngasih sepatah kata apa nih buat Eron?']"
   ]
  },
  {
   "cell_type": "code",
   "execution_count": 53,
   "metadata": {},
   "outputs": [],
   "source": [
    "df2 = df2.drop(['Mau ngasih sepatah kata apa nih buat Moses?',\n",
    "       'Mau ngasih sepatah kata apa nih buat Rizky?',\n",
    "       'Mau ngasih sepatah kata apa nih buat Rizky?2',\n",
    "       'Mau ngasih sepatah kata apa nih buat Moses?2',\n",
    "       'Mau ngasih sepatah kata apa nih buat Mikha?',\n",
    "       'Mau ngasih sepatah kata apa nih buat Dicky?',\n",
    "       'Mau ngasih sepatah kata apa nih buat Dicky?2',\n",
    "       'Mau ngasih sepatah kata apa nih buat Mikha?2',\n",
    "       'Mau ngasih sepatah kata apa nih buat Eron?'], axis=1)"
   ]
  },
  {
   "cell_type": "code",
   "execution_count": 54,
   "metadata": {},
   "outputs": [],
   "source": [
    "df_cleaned = df2[[\"ID\", \"Completion time\", \"Pengirim\", \"Pesan untuk Moses\", \"Pesan untuk Rizky\", \n",
    "          \"Pesan untuk Mikha\", \"Pesan untuk Dicky\", \"Pesan untuk Eron\"]]"
   ]
  },
  {
   "cell_type": "code",
   "execution_count": 55,
   "metadata": {},
   "outputs": [],
   "source": [
    "df_cleaned = df_cleaned.rename(columns={'ID': 'No', 'Completion time': 'Waktu Pengiriman'})"
   ]
  },
  {
   "cell_type": "code",
   "execution_count": 57,
   "metadata": {},
   "outputs": [],
   "source": [
    "# Put the desired location path of the new cleaned data here\n",
    "df_cleaned.to_csv(\"C:/Users/dell/Documents/DuDu/DuDu_cleaned.csv\", index=False)"
   ]
  }
 ],
 "metadata": {
  "kernelspec": {
   "display_name": "Python 3",
   "language": "python",
   "name": "python3"
  },
  "language_info": {
   "codemirror_mode": {
    "name": "ipython",
    "version": 3
   },
   "file_extension": ".py",
   "mimetype": "text/x-python",
   "name": "python",
   "nbconvert_exporter": "python",
   "pygments_lexer": "ipython3",
   "version": "3.7.4"
  }
 },
 "nbformat": 4,
 "nbformat_minor": 2
}
